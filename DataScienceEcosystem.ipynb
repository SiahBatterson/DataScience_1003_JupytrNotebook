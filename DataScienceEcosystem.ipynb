{
 "cells": [
  {
   "cell_type": "markdown",
   "id": "2434ab1c-8b32-4ca1-b62c-394994a08f47",
   "metadata": {
    "tags": []
   },
   "source": [
    "# Data Science Tools and Ecosystem"
   ]
  },
  {
   "cell_type": "markdown",
   "id": "2dc5ca0a-d5d5-4567-b095-799089bc34ab",
   "metadata": {},
   "source": [
    "In this notebook, Data Science Tools and Ecosystem are summarized."
   ]
  },
  {
   "cell_type": "markdown",
   "id": "ce954bb1-366d-4fb7-b78f-03a9c7f38222",
   "metadata": {},
   "source": [
    "**Objectives:**\n",
    "* Cover some popular languages in data science\n",
    "* Explore some tools used in the data science field\n",
    "* List popular libraries commonly used\n",
    "* Share some common python expression examples"
   ]
  },
  {
   "cell_type": "markdown",
   "id": "38c70705-ecc1-4333-a9aa-c4373d8035bb",
   "metadata": {},
   "source": [
    "Some popular languages data scientists use are:\n",
    "* R\n",
    "* Python\n",
    "* SQL"
   ]
  },
  {
   "cell_type": "markdown",
   "id": "6f15cb4b-d552-476f-80bf-6382d3132fc1",
   "metadata": {},
   "source": [
    "Some common libraries that data scientist use are:\n",
    "* GGally\n",
    "* panda\n",
    "* MatPlotLib\n",
    "* NumPy\n"
   ]
  },
  {
   "cell_type": "markdown",
   "id": "537fdaea-2d71-41cb-b3b8-f1aeb2e1ad22",
   "metadata": {},
   "source": [
    "| Data Science Tools |\n",
    "| :----: |\n",
    "| Watson Studio |\n",
    "| RStudio | \n",
    "| Jupyter Notebooks |"
   ]
  },
  {
   "cell_type": "markdown",
   "id": "c74580e1-c792-4c33-8f24-b427027c988b",
   "metadata": {},
   "source": [
    "### Below are a few examples of evaluating arithmetic expressions in Python."
   ]
  },
  {
   "cell_type": "code",
   "execution_count": 1,
   "id": "d5366135-0847-4e6e-9097-c6e01da12b1d",
   "metadata": {
    "tags": []
   },
   "outputs": [
    {
     "data": {
      "text/plain": [
       "17"
      ]
     },
     "execution_count": 1,
     "metadata": {},
     "output_type": "execute_result"
    }
   ],
   "source": [
    "# This a simple arithmetic expression to mutiply then add integers. \n",
    "(3*4)+5"
   ]
  },
  {
   "cell_type": "code",
   "execution_count": 2,
   "id": "e27bd684-8b5d-45bc-9378-f8ce8ad9e3e4",
   "metadata": {
    "tags": []
   },
   "outputs": [
    {
     "data": {
      "text/plain": [
       "3.3333333333333335"
      ]
     },
     "execution_count": 2,
     "metadata": {},
     "output_type": "execute_result"
    }
   ],
   "source": [
    "# This will convert 200 minutes to hours by diving by 60.\n",
    "200/60"
   ]
  },
  {
   "cell_type": "markdown",
   "id": "d19bee17-2801-442f-8d70-09fcb094a5ba",
   "metadata": {},
   "source": [
    "## Author\n",
    "Josiah Batterson"
   ]
  }
 ],
 "metadata": {
  "kernelspec": {
   "display_name": "Python",
   "language": "python",
   "name": "conda-env-python-py"
  },
  "language_info": {
   "codemirror_mode": {
    "name": "ipython",
    "version": 3
   },
   "file_extension": ".py",
   "mimetype": "text/x-python",
   "name": "python",
   "nbconvert_exporter": "python",
   "pygments_lexer": "ipython3",
   "version": "3.7.12"
  }
 },
 "nbformat": 4,
 "nbformat_minor": 5
}
